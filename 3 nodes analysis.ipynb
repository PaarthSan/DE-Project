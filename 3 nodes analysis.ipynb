{
 "cells": [
  {
   "cell_type": "code",
   "execution_count": 1,
   "id": "da4b3b21-d23d-4bc6-b6c9-e3bbe80b93e3",
   "metadata": {},
   "outputs": [],
   "source": [
    "from pyspark.sql import SparkSession\n",
    "from operator import add"
   ]
  },
  {
   "cell_type": "code",
   "execution_count": 2,
   "id": "773b4ae3-5ad4-4c4b-be36-8a1dbe54f69d",
   "metadata": {},
   "outputs": [
    {
     "name": "stderr",
     "output_type": "stream",
     "text": [
      "Setting default log level to \"WARN\".\n",
      "To adjust logging level use sc.setLogLevel(newLevel). For SparkR, use setLogLevel(newLevel).\n",
      "2022-03-26 13:57:14,369 WARN spark.ExecutorAllocationManager: Dynamic allocation without a shuffle service is an experimental feature.\n"
     ]
    }
   ],
   "source": [
    "# New API\n",
    "spark_session = SparkSession\\\n",
    "        .builder\\\n",
    "        .master(\"spark://192.168.2.127:7077\") \\\n",
    "        .appName(\"test2\")\\\n",
    "        .config(\"spark.executor.cores\",1)\\\n",
    "        .config(\"spark.dynamicAllocation.enabled\", True)\\\n",
    "        .config(\"spark.dynamicAllocation.shuffleTracking.enabled\", True)\\\n",
    "        .config(\"spark.shuffle.service.enabled\", False)\\\n",
    "        .config(\"spark.dynamicAllocation.executorIdleTimeout\",\"30s\")\\\n",
    "        .config(\"spark.driver.port\",9998)\\\n",
    "        .config(\"spark.blockManager.port\",10005)\\\n",
    "        .getOrCreate()\n",
    "\n",
    "# Old API (RDD)\n",
    "spark_context = spark_session.sparkContext\n",
    "\n",
    "spark_context.setLogLevel(\"ERROR\")"
   ]
  },
  {
   "cell_type": "code",
   "execution_count": 3,
   "id": "d759f5e7-c824-4645-9ab6-2f179375fdc8",
   "metadata": {},
   "outputs": [
    {
     "name": "stderr",
     "output_type": "stream",
     "text": [
      "                                                                                \r"
     ]
    }
   ],
   "source": [
    "from time import perf_counter\n",
    "from pyspark import SparkFiles\n",
    "\n",
    "t1_start = perf_counter () \n",
    "\n",
    "df = spark_session.read.json('hdfs://192.168.2.127:9000//home/ubuntu/redditdata/RC_2012-01.bz2')\n",
    "\n",
    "t2 = perf_counter ()"
   ]
  },
  {
   "cell_type": "code",
   "execution_count": 4,
   "id": "e15c72f4-91cb-4245-81f7-887fa306eec7",
   "metadata": {},
   "outputs": [
    {
     "name": "stdout",
     "output_type": "stream",
     "text": [
      "Requirement already satisfied: textblob in ./.local/lib/python3.8/site-packages (0.17.1)\n",
      "Requirement already satisfied: nltk>=3.1; python_version >= \"3\" in ./.local/lib/python3.8/site-packages (from textblob) (3.7)\n",
      "Requirement already satisfied: regex>=2021.8.3 in ./.local/lib/python3.8/site-packages (from nltk>=3.1; python_version >= \"3\"->textblob) (2022.3.15)\n",
      "Requirement already satisfied: tqdm in ./.local/lib/python3.8/site-packages (from nltk>=3.1; python_version >= \"3\"->textblob) (4.63.0)\n",
      "Requirement already satisfied: joblib in ./.local/lib/python3.8/site-packages (from nltk>=3.1; python_version >= \"3\"->textblob) (1.1.0)\n",
      "Requirement already satisfied: click in /usr/lib/python3/dist-packages (from nltk>=3.1; python_version >= \"3\"->textblob) (7.0)\n",
      "Note: you may need to restart the kernel to use updated packages.\n"
     ]
    }
   ],
   "source": [
    "pip install textblob"
   ]
  },
  {
   "cell_type": "code",
   "execution_count": 5,
   "id": "6b13433f-1144-4af3-a34d-68684f31c696",
   "metadata": {},
   "outputs": [
    {
     "name": "stderr",
     "output_type": "stream",
     "text": [
      "[Stage 2:=======================================>                   (2 + 1) / 3]\r"
     ]
    },
    {
     "name": "stdout",
     "output_type": "stream",
     "text": [
      "+---------+-------------------+--------------------+--------------------+\n",
      "|subreddit|             author|                body|           sentiment|\n",
      "+---------+-------------------+--------------------+--------------------+\n",
      "|   soccer|        ajafarzadeh|As a neutral (wit...| 0.12600000000000003|\n",
      "|   soccer|         WaiXingRen|Wow as a new fan ...| 0.22624950806768984|\n",
      "|   soccer|          night_owl|but history dicta...|  0.1136063936063936|\n",
      "|   soccer|         drwormtmbg|that's because, a...|-0.19999999999999998|\n",
      "|   soccer|            ravniel|I think this over...| 0.05873015873015873|\n",
      "|   soccer|               okem|Stats from 2010-1...|                0.36|\n",
      "|   soccer|             dsemaj|Vincent Kompany h...| 0.27499999999999997|\n",
      "|   soccer|          [deleted]|I cannot wait to ...|               0.225|\n",
      "|   soccer|       WineForMyMen|Oh, another Manch...| 0.26249999999999996|\n",
      "|   soccer|Heinz_Doofenshmirtz|But Joe Hart has ...| 0.26296296296296295|\n",
      "|   soccer|         Clark-Kent|Manchester City h...|-0.09285714285714287|\n",
      "|   soccer|              Con45|And I thought our...|                 0.0|\n",
      "|   soccer|          ye11ow_11|LOL. All I can do...| 0.19691162109375002|\n",
      "|   soccer|          [deleted]|I'm glad you repl...| 0.05934407854050711|\n",
      "|   soccer|             immerc|With a very high ...|              -0.096|\n",
      "|   soccer|         the_kicker|Really it pisses ...|               0.425|\n",
      "|   soccer|          [deleted]|    Manchester City.|                 0.0|\n",
      "|   soccer|    soccerroomtoday|Ivory Coast have ...| 0.09999999999999999|\n",
      "|   soccer|    soccerroomtoday|Manchester City m...|  0.2791666666666667|\n",
      "|   soccer|         drwormtmbg|Wow, it sounds li...| 0.13392857142857145|\n",
      "+---------+-------------------+--------------------+--------------------+\n",
      "only showing top 20 rows\n",
      "\n"
     ]
    },
    {
     "name": "stderr",
     "output_type": "stream",
     "text": [
      "                                                                                \r"
     ]
    }
   ],
   "source": [
    "import pyspark\n",
    "from pyspark.sql.functions import udf\n",
    "from pyspark.sql.types import StringType\n",
    "from textblob import TextBlob\n",
    "\n",
    "df_new = df['subreddit','author','body']\n",
    "sub = ['football', 'soccer', 'English Premier League', 'news']\n",
    "df_new = df_new.where(df_new.subreddit.isin(sub))\n",
    "df_new = df_new.where(df_new['body'] != '[deleted]')\n",
    "df_new = df_new.where(df_new['body'].contains('Manchester City'))\n",
    "df_sentiment = df_new\n",
    "\n",
    "def sentiment(text):\n",
    "    sentiment = TextBlob(text).sentiment.polarity\n",
    "    # sentiment = sia.polarity_scores(text)['compound']\n",
    "    return sentiment\n",
    "\n",
    "udf_sentiment = udf(sentiment, StringType())\n",
    "\n",
    "# adding 'sentiment' column\n",
    "df_sentiment = df_sentiment.withColumn(\"sentiment\", udf_sentiment(\"body\"))\n",
    "# df_sentiment.agg({'sentiment': 'avg'}).show()\n",
    "df_sentiment.show()\n",
    "t3 =  perf_counter ()"
   ]
  },
  {
   "cell_type": "code",
   "execution_count": 6,
   "id": "ca14ad1b-0bda-4a55-9ad9-81b815b0f6c8",
   "metadata": {},
   "outputs": [
    {
     "name": "stdout",
     "output_type": "stream",
     "text": [
      "Total time taken:  346.170534464065\n",
      "File loading:  188.3335462230025\n"
     ]
    }
   ],
   "source": [
    "print(\"Total time taken: \", (t3 - t1_start))\n",
    "print(\"File loading: \", (t2 - t1_start))"
   ]
  },
  {
   "cell_type": "code",
   "execution_count": null,
   "id": "d286bee7-9482-4c42-a466-d92f0e360c49",
   "metadata": {},
   "outputs": [],
   "source": []
  }
 ],
 "metadata": {
  "kernelspec": {
   "display_name": "Python 3 (ipykernel)",
   "language": "python",
   "name": "python3"
  },
  "language_info": {
   "codemirror_mode": {
    "name": "ipython",
    "version": 3
   },
   "file_extension": ".py",
   "mimetype": "text/x-python",
   "name": "python",
   "nbconvert_exporter": "python",
   "pygments_lexer": "ipython3",
   "version": "3.8.10"
  }
 },
 "nbformat": 4,
 "nbformat_minor": 5
}
